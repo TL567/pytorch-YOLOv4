{
 "cells": [
  {
   "cell_type": "code",
   "execution_count": 4,
   "metadata": {},
   "outputs": [],
   "source": [
    "import os\n",
    "# _BASE_DIR = os.path.dirname(os.path.abspath(__file__))\n",
    "lable_path = os.path.join( 'train.txt')"
   ]
  },
  {
   "cell_type": "code",
   "execution_count": 9,
   "metadata": {},
   "outputs": [],
   "source": [
    "truth = {}\n",
    "f = open(lable_path, 'r', encoding='utf-8')\n",
    "for line in f.readlines():\n",
    "    data = line.split(\" \")\n",
    "    truth[data[0]] = []\n",
    "    for i in data[1:]:\n",
    "        truth[data[0]].append([int(float(j)) for j in i.split(',')])\n"
   ]
  },
  {
   "cell_type": "code",
   "execution_count": 12,
   "metadata": {},
   "outputs": [],
   "source": [
    "a = (list(truth.keys()))\n"
   ]
  },
  {
   "cell_type": "code",
   "execution_count": 18,
   "metadata": {},
   "outputs": [
    {
     "data": {
      "text/plain": [
       "'2021-11-19_16-59-01-212.jpg'"
      ]
     },
     "execution_count": 18,
     "metadata": {},
     "output_type": "execute_result"
    }
   ],
   "source": [
    "a[3]"
   ]
  },
  {
   "cell_type": "code",
   "execution_count": 16,
   "metadata": {},
   "outputs": [],
   "source": [
    "filename = 'level1_123.jpg'\n",
    "lv, no = os.path.splitext(os.path.basename(filename))[0].split(\"_\")\n",
    "lv = lv.replace(\"level\", \"\")\n",
    "no = f\"{int(no):04d}\""
   ]
  },
  {
   "cell_type": "code",
   "execution_count": 17,
   "metadata": {},
   "outputs": [
    {
     "data": {
      "text/plain": [
       "'10123'"
      ]
     },
     "execution_count": 17,
     "metadata": {},
     "output_type": "execute_result"
    }
   ],
   "source": [
    "lv+no"
   ]
  },
  {
   "cell_type": "code",
   "execution_count": 24,
   "metadata": {},
   "outputs": [
    {
     "name": "stderr",
     "output_type": "stream",
     "text": [
      "100%|██████████| 56/56 [00:00<?, ?it/s]"
     ]
    },
    {
     "name": "stdout",
     "output_type": "stream",
     "text": [
      "5\n"
     ]
    },
    {
     "name": "stderr",
     "output_type": "stream",
     "text": [
      "\n"
     ]
    }
   ],
   "source": [
    "json_file_path = 'C:/Users/48953/Desktop/CaptureFiles/coco.json'\n",
    "import json\n",
    "from tqdm import tqdm\n",
    "with open(json_file_path, encoding='utf-8') as f:\n",
    "    data = json.load(f)\n",
    "images = data['images']\n",
    "f_dic = {}\n",
    "for img in tqdm(images):\n",
    "    fid = img['id']\n",
    "    fname = img['file_name']\n",
    "    f_dic[fname] = fid\n",
    "print(f_dic['2021-11-19_16-59-01-212.jpg'])"
   ]
  },
  {
   "cell_type": "code",
   "execution_count": 28,
   "metadata": {},
   "outputs": [
    {
     "name": "stdout",
     "output_type": "stream",
     "text": [
      "5\n"
     ]
    }
   ],
   "source": [
    "import numpy as np\n",
    "\n",
    "# Save\n",
    "np.save('name_id.npy',f_dic) \n",
    "\n",
    "# Load\n",
    "read_dictionary = np.load('name_id.npy',allow_pickle=True).item()\n",
    "print(read_dictionary['2021-11-19_16-59-01-212.jpg']) # displays \"world\"\n"
   ]
  }
 ],
 "metadata": {
  "interpreter": {
   "hash": "22800efcd4c49881911a0b2d8a79797207328a6a642f3a84c2d705a7929860d9"
  },
  "kernelspec": {
   "display_name": "Python 3.7.3 64-bit",
   "language": "python",
   "name": "python3"
  },
  "language_info": {
   "codemirror_mode": {
    "name": "ipython",
    "version": 3
   },
   "file_extension": ".py",
   "mimetype": "text/x-python",
   "name": "python",
   "nbconvert_exporter": "python",
   "pygments_lexer": "ipython3",
   "version": "3.7.3"
  },
  "orig_nbformat": 4
 },
 "nbformat": 4,
 "nbformat_minor": 2
}
